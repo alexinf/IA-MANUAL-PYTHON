{
 "cells": [
  {
   "cell_type": "code",
   "execution_count": null,
   "metadata": {},
   "outputs": [],
   "source": [
    "COMENTARIOS EN PYTHON:"
   ]
  },
  {
   "cell_type": "code",
   "execution_count": null,
   "metadata": {},
   "outputs": [],
   "source": [
    "#Los comentarios se puede realizar agregando un # al inicio de cada linea\n",
    "\"\"\"\"tambien se puede comentar de esta forma \n",
    "Varias lineas a la vez \"\"\""
   ]
  },
  {
   "cell_type": "code",
   "execution_count": null,
   "metadata": {},
   "outputs": [],
   "source": [
    "PALABRAS RESERVADAS EN PYTHON:"
   ]
  },
  {
   "cell_type": "code",
   "execution_count": 1,
   "metadata": {},
   "outputs": [],
   "source": [
    "#Las palabras reservadas en python pueden ser consultadas con la funcion help() en python\n",
    "#A continuacion ejecutaremos el help(\"keywords\") para obtener las palabras reservadas"
   ]
  },
  {
   "cell_type": "code",
   "execution_count": 2,
   "metadata": {},
   "outputs": [
    {
     "name": "stdout",
     "output_type": "stream",
     "text": [
      "\n",
      "Here is a list of the Python keywords.  Enter any keyword to get more help.\n",
      "\n",
      "False               def                 if                  raise\n",
      "None                del                 import              return\n",
      "True                elif                in                  try\n",
      "and                 else                is                  while\n",
      "as                  except              lambda              with\n",
      "assert              finally             nonlocal            yield\n",
      "break               for                 not                 \n",
      "class               from                or                  \n",
      "continue            global              pass                \n",
      "\n"
     ]
    }
   ],
   "source": [
    "help(\"keywords\")"
   ]
  },
  {
   "cell_type": "code",
   "execution_count": null,
   "metadata": {},
   "outputs": [],
   "source": [
    "VARIABLES: "
   ]
  },
  {
   "cell_type": "code",
   "execution_count": 10,
   "metadata": {},
   "outputs": [],
   "source": [
    "\"\"\"\"En algunos lenguajes de programación, las variables se pueden entender como \"cajas\" \n",
    "en las que se guardan los datos, pero en Python las variables son \"etiquetas\" que permiten \n",
    "hacer referencia a los datos (que se guardan en unas \"cajas\" llamadas objetos).\"\"\"\n",
    "#las variables se inicializan al asignarles algun valor por ejemplo:\n",
    "a = 10 \n",
    "b = 1.2\n",
    "c = 'a'\n",
    "#imprimiremos cada variable con lo siguiente"
   ]
  },
  {
   "cell_type": "code",
   "execution_count": 10,
   "metadata": {},
   "outputs": [
    {
     "name": "stdout",
     "output_type": "stream",
     "text": [
      "a:  1  b:  1.2  c:  a\n"
     ]
    }
   ],
   "source": [
    "print('a: ',a ,' b: ', b,' c: ', c)"
   ]
  },
  {
   "cell_type": "code",
   "execution_count": null,
   "metadata": {},
   "outputs": [],
   "source": [
    "#Las variables deben estar \"definidas\" (con un valor asignado) antes \n",
    "#de que puedan usarse, caso contrario pueden ocurrir errores."
   ]
  },
  {
   "cell_type": "code",
   "execution_count": 2,
   "metadata": {},
   "outputs": [
    {
     "ename": "NameError",
     "evalue": "name 'x' is not defined",
     "output_type": "error",
     "traceback": [
      "\u001b[1;31m---------------------------------------------------------------------------\u001b[0m",
      "\u001b[1;31mNameError\u001b[0m                                 Traceback (most recent call last)",
      "\u001b[1;32m<ipython-input-2-fc17d851ef81>\u001b[0m in \u001b[0;36m<module>\u001b[1;34m\u001b[0m\n\u001b[1;32m----> 1\u001b[1;33m \u001b[0mprint\u001b[0m\u001b[1;33m(\u001b[0m\u001b[0mx\u001b[0m\u001b[1;33m)\u001b[0m\u001b[1;33m\u001b[0m\u001b[0m\n\u001b[0m",
      "\u001b[1;31mNameError\u001b[0m: name 'x' is not defined"
     ]
    }
   ],
   "source": [
    "print(x)"
   ]
  },
  {
   "cell_type": "code",
   "execution_count": null,
   "metadata": {},
   "outputs": [],
   "source": [
    "#Un valor puede ser asignado a varias variables simultáneamente:"
   ]
  },
  {
   "cell_type": "code",
   "execution_count": 4,
   "metadata": {},
   "outputs": [
    {
     "name": "stdout",
     "output_type": "stream",
     "text": [
      "632   632   632\n"
     ]
    }
   ],
   "source": [
    "x = y = z = 632\n",
    "print(x,' ',y ,' ', z)"
   ]
  },
  {
   "cell_type": "code",
   "execution_count": null,
   "metadata": {},
   "outputs": [],
   "source": [
    "OPERACIONES BASICAS:"
   ]
  },
  {
   "cell_type": "code",
   "execution_count": 11,
   "metadata": {},
   "outputs": [
    {
     "name": "stdout",
     "output_type": "stream",
     "text": [
      "suma:  12\n",
      "resta:  2\n",
      "multiplicacion:  100\n",
      "divicion:  2.0\n"
     ]
    }
   ],
   "source": [
    "suma = a + 2\n",
    "resta = a - 8\n",
    "multiplica = a * a\n",
    "divide = a / 5\n",
    "print('suma: ', suma)\n",
    "print('resta: ', resta)\n",
    "print('multiplicacion: ', multiplica)\n",
    "print('divicion: ', divide)"
   ]
  },
  {
   "cell_type": "code",
   "execution_count": null,
   "metadata": {},
   "outputs": [],
   "source": [
    "#soporta completamente los números de punto flotante"
   ]
  },
  {
   "cell_type": "code",
   "execution_count": 6,
   "metadata": {},
   "outputs": [
    {
     "data": {
      "text/plain": [
       "2520.9096"
      ]
     },
     "execution_count": 6,
     "metadata": {},
     "output_type": "execute_result"
    }
   ],
   "source": [
    "12*4.658*45.1"
   ]
  },
  {
   "cell_type": "code",
   "execution_count": null,
   "metadata": {},
   "outputs": [],
   "source": [
    "#Existe funciónes de conversión \n",
    "#de los nueros flotante y enteros (float(), int())"
   ]
  },
  {
   "cell_type": "code",
   "execution_count": 15,
   "metadata": {},
   "outputs": [
    {
     "data": {
      "text/plain": [
       "5.0"
      ]
     },
     "execution_count": 15,
     "metadata": {},
     "output_type": "execute_result"
    }
   ],
   "source": [
    "float(5)"
   ]
  },
  {
   "cell_type": "code",
   "execution_count": 16,
   "metadata": {},
   "outputs": [
    {
     "data": {
      "text/plain": [
       "5"
      ]
     },
     "execution_count": 16,
     "metadata": {},
     "output_type": "execute_result"
    }
   ],
   "source": [
    "int(5.5)"
   ]
  },
  {
   "cell_type": "code",
   "execution_count": null,
   "metadata": {},
   "outputs": [],
   "source": [
    "#una funcion muy importante para saber el tipo de las variables Funcion type() muy util a la hora de programar para saber la \n",
    "#mutacion que pueda sufrir alguna variable en el proceso de ejecucion\n",
    "#al ser un lenguaje de programacion dinamica es muy necesario usar\n",
    "#la funcion type()"
   ]
  },
  {
   "cell_type": "code",
   "execution_count": 17,
   "metadata": {},
   "outputs": [
    {
     "name": "stdout",
     "output_type": "stream",
     "text": [
      "<class 'float'>\n"
     ]
    }
   ],
   "source": [
    "print(type(5.5))"
   ]
  },
  {
   "cell_type": "code",
   "execution_count": 18,
   "metadata": {},
   "outputs": [
    {
     "name": "stdout",
     "output_type": "stream",
     "text": [
      "<class 'str'>\n"
     ]
    }
   ],
   "source": [
    "print(type('a'))"
   ]
  },
  {
   "cell_type": "code",
   "execution_count": 20,
   "metadata": {},
   "outputs": [
    {
     "name": "stdout",
     "output_type": "stream",
     "text": [
      "<class 'int'>\n"
     ]
    }
   ],
   "source": [
    "print(type(5))"
   ]
  },
  {
   "cell_type": "code",
   "execution_count": 22,
   "metadata": {},
   "outputs": [
    {
     "name": "stdout",
     "output_type": "stream",
     "text": [
      "<class 'list'>\n"
     ]
    }
   ],
   "source": [
    "print(type([1,3,5]))"
   ]
  },
  {
   "cell_type": "code",
   "execution_count": null,
   "metadata": {},
   "outputs": [],
   "source": [
    "CADENAS Y CARACTERES:"
   ]
  },
  {
   "cell_type": "code",
   "execution_count": 24,
   "metadata": {},
   "outputs": [],
   "source": [
    "#Además de números, Python puede manipular cadenas de texto, las cuales\n",
    "#pueden ser expresadas de distintas formas. Pueden estar encerradas en\n",
    "#comillas simples o dobles:"
   ]
  },
  {
   "cell_type": "code",
   "execution_count": 25,
   "metadata": {},
   "outputs": [
    {
     "data": {
      "text/plain": [
       "'HOLA MUNDO'"
      ]
     },
     "execution_count": 25,
     "metadata": {},
     "output_type": "execute_result"
    }
   ],
   "source": [
    "\"HOLA MUNDO\""
   ]
  },
  {
   "cell_type": "code",
   "execution_count": 27,
   "metadata": {},
   "outputs": [
    {
     "data": {
      "text/plain": [
       "\"COMO ESTAN 'TODOS\""
      ]
     },
     "execution_count": 27,
     "metadata": {},
     "output_type": "execute_result"
    }
   ],
   "source": [
    "'COMO ESTAN \\'TODOS'"
   ]
  },
  {
   "cell_type": "code",
   "execution_count": 28,
   "metadata": {},
   "outputs": [
    {
     "data": {
      "text/plain": [
       "'\"Si,\" le dijo.'"
      ]
     },
     "execution_count": 28,
     "metadata": {},
     "output_type": "execute_result"
    }
   ],
   "source": [
    "'\"Si,\" le dijo.'"
   ]
  },
  {
   "cell_type": "code",
   "execution_count": 29,
   "metadata": {},
   "outputs": [
    {
     "data": {
      "text/plain": [
       "'\"Si,\" le dijo.'"
      ]
     },
     "execution_count": 29,
     "metadata": {},
     "output_type": "execute_result"
    }
   ],
   "source": [
    "\"\\\"Si,\\\" le dijo.\""
   ]
  },
  {
   "cell_type": "code",
   "execution_count": 30,
   "metadata": {},
   "outputs": [
    {
     "name": "stdout",
     "output_type": "stream",
     "text": [
      "Este es un ejemplo de un parrafo que contiene\n",
      "  varias lineas de texto \n",
      "    Notar que los espacios en blanco al principio de la lineason significantes.\n"
     ]
    }
   ],
   "source": [
    "text = \"Este es un ejemplo de un parrafo que contiene\\n\\\n",
    "  varias lineas de texto \\n\\\n",
    "    Notar que los espacios en blanco al principio de la linea\\\n",
    "son significantes.\"\n",
    "print(text)"
   ]
  },
  {
   "cell_type": "code",
   "execution_count": 31,
   "metadata": {},
   "outputs": [],
   "source": [
    "#Las cadenas de texto pueden ser concatenadas \n",
    "#con el operador + y repetidas con *:"
   ]
  },
  {
   "cell_type": "code",
   "execution_count": 48,
   "metadata": {},
   "outputs": [],
   "source": [
    "texto = \"HOLA \" + \" AL MUNDO \"+ \"DE \"+\"IA\""
   ]
  },
  {
   "cell_type": "code",
   "execution_count": 49,
   "metadata": {},
   "outputs": [
    {
     "data": {
      "text/plain": [
       "'HOLA  AL MUNDO DE IA'"
      ]
     },
     "execution_count": 49,
     "metadata": {},
     "output_type": "execute_result"
    }
   ],
   "source": [
    "texto"
   ]
  },
  {
   "cell_type": "code",
   "execution_count": 50,
   "metadata": {},
   "outputs": [
    {
     "data": {
      "text/plain": [
       "'!HOLA  AL MUNDO DE IAHOLA  AL MUNDO DE IAHOLA  AL MUNDO DE IAHOLA  AL MUNDO DE IAHOLA  AL MUNDO DE IA!'"
      ]
     },
     "execution_count": 50,
     "metadata": {},
     "output_type": "execute_result"
    }
   ],
   "source": [
    "'!' + texto*5 + '!'"
   ]
  },
  {
   "cell_type": "code",
   "execution_count": 51,
   "metadata": {},
   "outputs": [],
   "source": [
    "#Las cadenas de texto se pueden indexar; como en C, \n",
    "#el primer carácter de la cadena tiene el índice 0."
   ]
  },
  {
   "cell_type": "code",
   "execution_count": 52,
   "metadata": {},
   "outputs": [
    {
     "data": {
      "text/plain": [
       "'O'"
      ]
     },
     "execution_count": 52,
     "metadata": {},
     "output_type": "execute_result"
    }
   ],
   "source": [
    "texto[0]"
   ]
  },
  {
   "cell_type": "code",
   "execution_count": 53,
   "metadata": {},
   "outputs": [
    {
     "data": {
      "text/plain": [
       "'HO'"
      ]
     },
     "execution_count": 53,
     "metadata": {},
     "output_type": "execute_result"
    }
   ],
   "source": [
    "texto[0:2]"
   ]
  },
  {
   "cell_type": "code",
   "execution_count": 54,
   "metadata": {},
   "outputs": [
    {
     "data": {
      "text/plain": [
       "'HOLA'"
      ]
     },
     "execution_count": 54,
     "metadata": {},
     "output_type": "execute_result"
    }
   ],
   "source": [
    "texto[0:4]"
   ]
  },
  {
   "cell_type": "code",
   "execution_count": 56,
   "metadata": {},
   "outputs": [
    {
     "data": {
      "text/plain": [
       "'HOLA  AL'"
      ]
     },
     "execution_count": 56,
     "metadata": {},
     "output_type": "execute_result"
    }
   ],
   "source": [
    "texto[0:8]"
   ]
  },
  {
   "cell_type": "code",
   "execution_count": 57,
   "metadata": {},
   "outputs": [],
   "source": [
    "#Los índices de las rebanadas tienen valores por defecto útiles; el \n",
    "#valor por defecto para el primer índice es cero, el valor por defecto \n",
    "#para el segundo índice es la longitud de la cadena a rebanar."
   ]
  },
  {
   "cell_type": "code",
   "execution_count": 58,
   "metadata": {},
   "outputs": [
    {
     "data": {
      "text/plain": [
       "'HOLA'"
      ]
     },
     "execution_count": 58,
     "metadata": {},
     "output_type": "execute_result"
    }
   ],
   "source": [
    "texto[:4]"
   ]
  },
  {
   "cell_type": "code",
   "execution_count": 62,
   "metadata": {},
   "outputs": [
    {
     "data": {
      "text/plain": [
       "'IA'"
      ]
     },
     "execution_count": 62,
     "metadata": {},
     "output_type": "execute_result"
    }
   ],
   "source": [
    "texto[18:]"
   ]
  },
  {
   "cell_type": "code",
   "execution_count": 63,
   "metadata": {},
   "outputs": [],
   "source": [
    "#A diferencia de las cadenas de texto en C, en Python no \n",
    "#pueden ser modificadas. Intentar asignar a una posición de la \n",
    "#cadena es un error:"
   ]
  },
  {
   "cell_type": "code",
   "execution_count": 64,
   "metadata": {},
   "outputs": [
    {
     "ename": "TypeError",
     "evalue": "'str' object does not support item assignment",
     "output_type": "error",
     "traceback": [
      "\u001b[1;31m---------------------------------------------------------------------------\u001b[0m",
      "\u001b[1;31mTypeError\u001b[0m                                 Traceback (most recent call last)",
      "\u001b[1;32m<ipython-input-64-23a303b3d04d>\u001b[0m in \u001b[0;36m<module>\u001b[1;34m\u001b[0m\n\u001b[1;32m----> 1\u001b[1;33m \u001b[0mtexto\u001b[0m \u001b[1;33m[\u001b[0m\u001b[1;36m0\u001b[0m\u001b[1;33m]\u001b[0m \u001b[1;33m=\u001b[0m \u001b[1;34m'X'\u001b[0m\u001b[1;33m\u001b[0m\u001b[0m\n\u001b[0m",
      "\u001b[1;31mTypeError\u001b[0m: 'str' object does not support item assignment"
     ]
    }
   ],
   "source": [
    "texto [0] = 'X'"
   ]
  },
  {
   "cell_type": "code",
   "execution_count": 65,
   "metadata": {},
   "outputs": [],
   "source": [
    "#Sin embargo, crear una nueva cadena con contenido\n",
    "#combinado es fácil y eficiente:"
   ]
  },
  {
   "cell_type": "code",
   "execution_count": 66,
   "metadata": {},
   "outputs": [
    {
     "data": {
      "text/plain": [
       "'XOLA  AL MUNDO DE IA'"
      ]
     },
     "execution_count": 66,
     "metadata": {},
     "output_type": "execute_result"
    }
   ],
   "source": [
    "'X' + texto[1:]"
   ]
  },
  {
   "cell_type": "code",
   "execution_count": 67,
   "metadata": {},
   "outputs": [
    {
     "data": {
      "text/plain": [
       "'2020 HOLA  AL MUNDO DE IA'"
      ]
     },
     "execution_count": 67,
     "metadata": {},
     "output_type": "execute_result"
    }
   ],
   "source": [
    "'2020 ' + texto[0:]"
   ]
  },
  {
   "cell_type": "code",
   "execution_count": 68,
   "metadata": {},
   "outputs": [],
   "source": [
    "#Los índices pueden ser números negativos, para empezar a \n",
    "#contar desde la derecha. Por ejemplo:"
   ]
  },
  {
   "cell_type": "code",
   "execution_count": 70,
   "metadata": {},
   "outputs": [
    {
     "data": {
      "text/plain": [
       "'A'"
      ]
     },
     "execution_count": 70,
     "metadata": {},
     "output_type": "execute_result"
    }
   ],
   "source": [
    "texto[-1]  #el ultimo caracter"
   ]
  },
  {
   "cell_type": "code",
   "execution_count": 71,
   "metadata": {},
   "outputs": [
    {
     "data": {
      "text/plain": [
       "'I'"
      ]
     },
     "execution_count": 71,
     "metadata": {},
     "output_type": "execute_result"
    }
   ],
   "source": [
    "texto[-2]  #el penultimo caracter"
   ]
  },
  {
   "cell_type": "code",
   "execution_count": 72,
   "metadata": {},
   "outputs": [],
   "source": [
    "#Los índices negativos fuera de rango son truncados"
   ]
  },
  {
   "cell_type": "code",
   "execution_count": 75,
   "metadata": {},
   "outputs": [
    {
     "data": {
      "text/plain": [
       "'HOLA  AL MUNDO DE IA'"
      ]
     },
     "execution_count": 75,
     "metadata": {},
     "output_type": "execute_result"
    }
   ],
   "source": [
    "texto[-500:]"
   ]
  },
  {
   "cell_type": "code",
   "execution_count": 76,
   "metadata": {},
   "outputs": [],
   "source": [
    "#La función incorporada len() devuelve la longitud de una cadena \n",
    "#de texto:"
   ]
  },
  {
   "cell_type": "code",
   "execution_count": 77,
   "metadata": {},
   "outputs": [
    {
     "data": {
      "text/plain": [
       "20"
      ]
     },
     "execution_count": 77,
     "metadata": {},
     "output_type": "execute_result"
    }
   ],
   "source": [
    "len(texto)"
   ]
  },
  {
   "cell_type": "code",
   "execution_count": null,
   "metadata": {},
   "outputs": [],
   "source": [
    "\"\"\" \n",
    "vease tambien las siguientes funciones \n",
    "typesseq: Las cadenas de texto y la cadenas de texto Unicode descritas en la siguiente sección son ejemplos de\n",
    "tipos secuencias, y soportan las operaciones comunes para esos tipos.\n",
    "string-methods: Tanto las cadenas de texto normales como las cadenas de texto Unicode soportan una gran cantidad\n",
    "de métodos para transformaciones básicas y búsqueda.\n",
    "new-string-formatting: Aquí se da información sobre formateo de cadenas de texto con str.format().\n",
    "string-formatting: Aquí se describe con más detalle las operaciones viejas para formateo usadas cuando una cadena de\n",
    "texto o una cadena Unicode están a la izquierda del operador %.\n",
    "\"\"\""
   ]
  },
  {
   "cell_type": "code",
   "execution_count": null,
   "metadata": {},
   "outputs": [],
   "source": [
    "LISTAS:"
   ]
  },
  {
   "cell_type": "code",
   "execution_count": 83,
   "metadata": {},
   "outputs": [],
   "source": [
    "#Python tiene varios tipos de datos compuestos, usados para \n",
    "#agrupar otros valores. El más versátil es la lista."
   ]
  },
  {
   "cell_type": "code",
   "execution_count": 84,
   "metadata": {},
   "outputs": [],
   "source": [
    "#Es posible crear una lista que almacene solo números enteros:"
   ]
  },
  {
   "cell_type": "code",
   "execution_count": 88,
   "metadata": {},
   "outputs": [],
   "source": [
    "lista_Numeros_Int = [0,1,2,3,4,5,6,7,8,9]"
   ]
  },
  {
   "cell_type": "code",
   "execution_count": 89,
   "metadata": {},
   "outputs": [
    {
     "data": {
      "text/plain": [
       "[0, 1, 2, 3, 4, 5, 6, 7, 8, 9]"
      ]
     },
     "execution_count": 89,
     "metadata": {},
     "output_type": "execute_result"
    }
   ],
   "source": [
    "lista_Numeros"
   ]
  },
  {
   "cell_type": "code",
   "execution_count": 90,
   "metadata": {},
   "outputs": [],
   "source": [
    "#Es posible crear una lista que almacene solo números decimales:"
   ]
  },
  {
   "cell_type": "code",
   "execution_count": 91,
   "metadata": {},
   "outputs": [],
   "source": [
    "lista_Numeros_Dec = [1.1,2.2,3.3,4.4,5.5,6.6,7.7,8.8,9.9]"
   ]
  },
  {
   "cell_type": "code",
   "execution_count": 92,
   "metadata": {},
   "outputs": [
    {
     "data": {
      "text/plain": [
       "[1.1, 2.2, 3.3, 4.4, 5.5, 6.6, 7.7, 8.8, 9.9]"
      ]
     },
     "execution_count": 92,
     "metadata": {},
     "output_type": "execute_result"
    }
   ],
   "source": [
    "lista_Numeros_Dec"
   ]
  },
  {
   "cell_type": "code",
   "execution_count": 93,
   "metadata": {},
   "outputs": [],
   "source": [
    "#Es posible crear una lista que almacene números enteros, \n",
    "#números decimales y strings / cadenas de caracteres:"
   ]
  },
  {
   "cell_type": "code",
   "execution_count": 95,
   "metadata": {},
   "outputs": [],
   "source": [
    "mi_lista_mix = [ 1.5, 2,\"IA ESTA COOL\"]"
   ]
  },
  {
   "cell_type": "code",
   "execution_count": 96,
   "metadata": {},
   "outputs": [
    {
     "data": {
      "text/plain": [
       "[1.5, 2, 'IA ESTA COOL']"
      ]
     },
     "execution_count": 96,
     "metadata": {},
     "output_type": "execute_result"
    }
   ],
   "source": [
    "mi_lista_mix"
   ]
  },
  {
   "cell_type": "code",
   "execution_count": 99,
   "metadata": {},
   "outputs": [
    {
     "data": {
      "text/plain": [
       "list"
      ]
     },
     "execution_count": 99,
     "metadata": {},
     "output_type": "execute_result"
    }
   ],
   "source": [
    "type(mi_lista_mix)  # si imprimimos el tipo de dato podemos ver lo siguiente"
   ]
  },
  {
   "cell_type": "code",
   "execution_count": 101,
   "metadata": {},
   "outputs": [],
   "source": [
    "#Es posible anidar listas\n",
    "#(crear listas que contengan otras listas), por ejemplo:"
   ]
  },
  {
   "cell_type": "code",
   "execution_count": 103,
   "metadata": {},
   "outputs": [
    {
     "data": {
      "text/plain": [
       "['x', [1, 2, 3, 4], 'y', 'z']"
      ]
     },
     "execution_count": 103,
     "metadata": {},
     "output_type": "execute_result"
    }
   ],
   "source": [
    "array1 = [1,2,3,4]\n",
    "array2 = ['x',array1,'y','z']\n",
    "array2"
   ]
  },
  {
   "cell_type": "code",
   "execution_count": 104,
   "metadata": {},
   "outputs": [],
   "source": [
    "array2.append('hola')  #podemos insertar mas datos"
   ]
  },
  {
   "cell_type": "code",
   "execution_count": null,
   "metadata": {},
   "outputs": [],
   "source": [
    "array2  # imprimimos el array"
   ]
  },
  {
   "cell_type": "code",
   "execution_count": null,
   "metadata": {},
   "outputs": [],
   "source": [
    "CONDICIONALES:"
   ]
  },
  {
   "cell_type": "code",
   "execution_count": null,
   "metadata": {},
   "outputs": [],
   "source": [
    "Condicionales (if,elif,else)\n",
    "En python puedes definir una serie de condicionales utilizando:\n",
    "• if: primera condicion\n",
    "• elif: resto de las condiciones. Puede haber multiples elif.\n",
    "• Else: se ejecuta cuando las anteriores condiciones son falsas."
   ]
  },
  {
   "cell_type": "code",
   "execution_count": null,
   "metadata": {},
   "outputs": [],
   "source": [
    "Operador ternario: El orden es diferente a otros lenguajes\n",
    "    “mayor que 2” if n > 2 else “menor o igual a 2”\n",
    "    \n",
    "Puede haber cero o más bloques elif, y el bloque else es opcional. La palabra reservada 'elif' es\n",
    "una abreviación de 'else if', y es útil para evitar un sangrado excesivo. Una secuencia if ... elif ...\n",
    "elif ... sustituye las sentencias switch o case encontradas en otros lenguajes."
   ]
  },
  {
   "cell_type": "code",
   "execution_count": 113,
   "metadata": {},
   "outputs": [
    {
     "name": "stdout",
     "output_type": "stream",
     "text": [
      "el numero es mayor a 5\n"
     ]
    }
   ],
   "source": [
    "numero = 5\n",
    "if numero < 5:\n",
    "    print('el numero es menor a 5')\n",
    "else:\n",
    "    print('el numero es mayor a 5')"
   ]
  },
  {
   "cell_type": "code",
   "execution_count": null,
   "metadata": {},
   "outputs": [],
   "source": [
    "ITERACIONES:"
   ]
  },
  {
   "cell_type": "code",
   "execution_count": null,
   "metadata": {},
   "outputs": [],
   "source": [
    "Nos permiten realizar el mismo bloque repetidas veces."
   ]
  },
  {
   "cell_type": "code",
   "execution_count": null,
   "metadata": {},
   "outputs": [],
   "source": [
    "LA SENTENCIA FOR\n",
    "La sentencia for en Python difiere un poco de lo que uno puede estar acostumbrado en lenguajes como\n",
    "C o Pascal."
   ]
  },
  {
   "cell_type": "code",
   "execution_count": 114,
   "metadata": {},
   "outputs": [],
   "source": [
    "#recorriendo un array "
   ]
  },
  {
   "cell_type": "code",
   "execution_count": 118,
   "metadata": {},
   "outputs": [
    {
     "name": "stdout",
     "output_type": "stream",
     "text": [
      "0\n",
      "1\n",
      "2\n",
      "3\n",
      "4\n",
      "5\n",
      "6\n",
      "7\n"
     ]
    }
   ],
   "source": [
    "arra_for = [0,1,2,3,4,5,6,7]\n",
    "for x in arra_for:\n",
    "    print (x )"
   ]
  },
  {
   "cell_type": "code",
   "execution_count": 119,
   "metadata": {},
   "outputs": [],
   "source": [
    "#generando un contador con un for lo que normalmente realizamos en\n",
    "#otros lenguajes de programacion"
   ]
  },
  {
   "cell_type": "code",
   "execution_count": 122,
   "metadata": {},
   "outputs": [
    {
     "name": "stdout",
     "output_type": "stream",
     "text": [
      "0\n",
      "2\n",
      "4\n",
      "6\n",
      "8\n",
      "10\n"
     ]
    }
   ],
   "source": [
    "for x in range(0,12,2):  # realizamos un generador de 2 en 2 hasta 10\n",
    "    print(x)"
   ]
  },
  {
   "cell_type": "code",
   "execution_count": null,
   "metadata": {},
   "outputs": [],
   "source": [
    "LA SENTENCIA WHILE\n",
    "Es identico a otros lenguajes de programacion tiene una condicion la cual consulta para poder continuar con el ciclo."
   ]
  },
  {
   "cell_type": "code",
   "execution_count": 124,
   "metadata": {},
   "outputs": [],
   "source": [
    "#se repite un bloque mientras la condicion logica devuelva True."
   ]
  },
  {
   "cell_type": "code",
   "execution_count": 125,
   "metadata": {},
   "outputs": [
    {
     "name": "stdout",
     "output_type": "stream",
     "text": [
      "0\n",
      "1\n",
      "2\n",
      "3\n",
      "4\n"
     ]
    }
   ],
   "source": [
    "c=0\n",
    "while c<5:\n",
    "    print(c)\n",
    "    c+=1 #contador=contador+1"
   ]
  },
  {
   "cell_type": "code",
   "execution_count": 131,
   "metadata": {},
   "outputs": [
    {
     "name": "stdout",
     "output_type": "stream",
     "text": [
      "1\n",
      "2\n",
      "3\n",
      "Se corto el ciclo\n"
     ]
    }
   ],
   "source": [
    "#Break\n",
    "c=0\n",
    "while c<5:\n",
    "    c+=1\n",
    "    if(c==4):\n",
    "        print('Se corto el ciclo')\n",
    "        break\n",
    "    print(c)"
   ]
  },
  {
   "cell_type": "code",
   "execution_count": 138,
   "metadata": {},
   "outputs": [
    {
     "name": "stdout",
     "output_type": "stream",
     "text": [
      "1\n",
      "2\n",
      "4\n",
      "5\n"
     ]
    }
   ],
   "source": [
    "#Continue\n",
    "c=0\n",
    "while c<5:\n",
    "    c+=1\n",
    "    if(c==3):\n",
    "        continue\n",
    "    print(c)\n"
   ]
  },
  {
   "cell_type": "code",
   "execution_count": null,
   "metadata": {},
   "outputs": [],
   "source": [
    "LA SENTENCIA PASS\n",
    "La sentencia pass no hace nada. Se puede usar cuando una sentencia es requerida por la sintáxis pero\n",
    "el programa no requiere ninguna acción."
   ]
  },
  {
   "cell_type": "code",
   "execution_count": 3,
   "metadata": {},
   "outputs": [
    {
     "name": "stdout",
     "output_type": "stream",
     "text": [
      "no realiza nada\n"
     ]
    }
   ],
   "source": [
    "#UN EJEMPLO DE PASS SERIA AL DECLARAR ALGUNA FUNCION \n",
    "def funcion():\n",
    "    pass\n",
    "\n",
    "print('no realiza nada')"
   ]
  },
  {
   "cell_type": "code",
   "execution_count": null,
   "metadata": {},
   "outputs": [],
   "source": [
    "FUNCIONES:"
   ]
  },
  {
   "cell_type": "code",
   "execution_count": null,
   "metadata": {},
   "outputs": [],
   "source": [
    "En python la definicion de funciones se realiza mediante la instrucción def mas un\n",
    "nombre de funcion descriptivo, seguido de parentesis de apertura y cierre\n",
    "La definicion de la funcion finaliza con dos puntos(:)\n",
    "def <nombre>(parametros):\n",
    "    <cuerpo>"
   ]
  },
  {
   "cell_type": "code",
   "execution_count": 4,
   "metadata": {},
   "outputs": [],
   "source": [
    "def funcion():\n",
    "    pass"
   ]
  },
  {
   "cell_type": "code",
   "execution_count": null,
   "metadata": {},
   "outputs": [],
   "source": [
    "Para llamar o activar esta funcion ponemos el nombre de la funcion seguido de\n",
    "parentesis\n",
    "   <funcion()>"
   ]
  },
  {
   "cell_type": "code",
   "execution_count": 5,
   "metadata": {},
   "outputs": [
    {
     "name": "stdout",
     "output_type": "stream",
     "text": [
      "720\n",
      "720\n",
      "720\n"
     ]
    }
   ],
   "source": [
    "#aqui aremos un ejemplo de una funcion normal \n",
    "# y una funcion recursiva\n",
    "def fact_1(n):\n",
    "    factorial_total = 1\n",
    "    while n > 1:\n",
    "        factorial_total *= n\n",
    "        n -= 1\n",
    "    return factorial_total\n",
    "def fact_recursividad(n):\n",
    "    if n > 1:\n",
    "        return n * fact_recursividad(n - 1)\n",
    "    else:\n",
    "        return 1 \n",
    "#forma sucia -_-        \n",
    "print(6 * 5 * 4 * 3 * 2 * 1)\n",
    "#forma funcional\n",
    "a = fact_1(6)\n",
    "b = fact_recursividad(6)\n",
    "print (a)\n",
    "print (b)"
   ]
  },
  {
   "cell_type": "code",
   "execution_count": null,
   "metadata": {},
   "outputs": [],
   "source": [
    "Decoradores\n",
    "python ademas no ofrece varias formas de usar las funciones una \n",
    "de ellas serian los decoradores que suelen llegar a ser bastante utiles\n",
    "al momento de desarrollar algun proyecto"
   ]
  },
  {
   "cell_type": "code",
   "execution_count": null,
   "metadata": {},
   "outputs": [],
   "source": [
    "#aqui podemos ver un ejemplo\n",
    "def funcion_a(funcion_b):\n",
    "    def funcion_c():\n",
    "        Bloque de codigo\n",
    "        funcion_b()\n",
    "    return funcion_c"
   ]
  },
  {
   "cell_type": "code",
   "execution_count": null,
   "metadata": {},
   "outputs": [],
   "source": [
    "en el ejemplo anterior podiamos ver un poco de recursividad\n",
    "la recursividad puede aplicarse en este lenguaje de programacion\n",
    "Python permite a una funcion llamarse a si mismo de igual forma que lo hace\n",
    "cuando llama a otra funcion"
   ]
  },
  {
   "cell_type": "code",
   "execution_count": 8,
   "metadata": {},
   "outputs": [
    {
     "name": "stdout",
     "output_type": "stream",
     "text": [
      "720\n"
     ]
    }
   ],
   "source": [
    "def fact_recursividad(n):\n",
    "    if n > 1:\n",
    "        return n * fact_recursividad(n - 1)\n",
    "    else:\n",
    "        return 1 \n",
    "    \n",
    "b = fact_recursividad(6)\n",
    "print(b)"
   ]
  },
  {
   "cell_type": "code",
   "execution_count": null,
   "metadata": {},
   "outputs": [],
   "source": [
    "Manejo de excepciones\n",
    "excepciones: errores detectados durante la ejecucion.\n",
    "Como lo manejamos?"
   ]
  },
  {
   "cell_type": "code",
   "execution_count": 15,
   "metadata": {},
   "outputs": [
    {
     "name": "stdout",
     "output_type": "stream",
     "text": [
      "Ha sucedido una excepción!\n"
     ]
    },
    {
     "ename": "NameError",
     "evalue": "Hola",
     "output_type": "error",
     "traceback": [
      "\u001b[1;31m---------------------------------------------------------------------------\u001b[0m",
      "\u001b[1;31mNameError\u001b[0m                                 Traceback (most recent call last)",
      "\u001b[1;32m<ipython-input-15-d6817db9def1>\u001b[0m in \u001b[0;36m<module>\u001b[1;34m\u001b[0m\n\u001b[0;32m      1\u001b[0m \u001b[1;32mtry\u001b[0m\u001b[1;33m:\u001b[0m\u001b[1;33m\u001b[0m\u001b[0m\n\u001b[1;32m----> 2\u001b[1;33m     \u001b[1;32mraise\u001b[0m \u001b[0mNameError\u001b[0m\u001b[1;33m(\u001b[0m\u001b[1;34m'Hola'\u001b[0m\u001b[1;33m)\u001b[0m\u001b[1;33m\u001b[0m\u001b[0m\n\u001b[0m\u001b[0;32m      3\u001b[0m \u001b[1;32mexcept\u001b[0m \u001b[0mNameError\u001b[0m\u001b[1;33m:\u001b[0m\u001b[1;33m\u001b[0m\u001b[0m\n\u001b[0;32m      4\u001b[0m     \u001b[0mprint\u001b[0m \u001b[1;33m(\u001b[0m\u001b[1;34m'Ha sucedido una excepción!'\u001b[0m\u001b[1;33m)\u001b[0m\u001b[1;33m\u001b[0m\u001b[0m\n\u001b[0;32m      5\u001b[0m     \u001b[1;32mraise\u001b[0m\u001b[1;33m\u001b[0m\u001b[0m\n",
      "\u001b[1;31mNameError\u001b[0m: Hola"
     ]
    }
   ],
   "source": [
    "try:\n",
    "    raise NameError('Hola')\n",
    "except NameError:\n",
    "    print ('Ha sucedido una excepción!')\n",
    "    raise"
   ]
  },
  {
   "cell_type": "code",
   "execution_count": null,
   "metadata": {},
   "outputs": [],
   "source": [
    "CLASES Y OBJETOS:"
   ]
  },
  {
   "cell_type": "code",
   "execution_count": null,
   "metadata": {},
   "outputs": [],
   "source": [
    "Las clases introducen un poquito de sintaxis nueva, tres nuevos tipos de objetos y algo de semántica\n",
    "nueva.\n",
    "\n",
    "Casi todo en Python es un objeto, con sus propiedades y metodos.\n",
    "Para crear una clase, utilizamos la palabra class."
   ]
  },
  {
   "cell_type": "code",
   "execution_count": null,
   "metadata": {},
   "outputs": [],
   "source": [
    "class Clase:\n",
    "    <declaración-1>\n",
    "\n",
    "    <declaración-N>"
   ]
  },
  {
   "cell_type": "code",
   "execution_count": 17,
   "metadata": {},
   "outputs": [],
   "source": [
    "#mi primera clase\n",
    "class Enteros:\n",
    "    i = 12345\n",
    "    def funcion(self):\n",
    "        return i"
   ]
  },
  {
   "cell_type": "code",
   "execution_count": 22,
   "metadata": {},
   "outputs": [
    {
     "data": {
      "text/plain": [
       "__main__.Enteros"
      ]
     },
     "execution_count": 22,
     "metadata": {},
     "output_type": "execute_result"
    }
   ],
   "source": [
    "x = Enteros()\n",
    "type(x)"
   ]
  },
  {
   "cell_type": "code",
   "execution_count": null,
   "metadata": {},
   "outputs": [],
   "source": [
    "Objetos clase\n",
    "Para hacer referencia a atributos se usa la sintaxis estándar de todas las referencias a atributos en\n",
    "Python: objeto.nombre. Los nombres de atributo válidos son todos los nombres que estaban en el\n",
    "espacio de nombres de la clase cuando ésta se creó.\n"
   ]
  },
  {
   "cell_type": "code",
   "execution_count": 24,
   "metadata": {},
   "outputs": [],
   "source": [
    "#Pondremos un ejemplo de clase Usando una de las de nuestro proyecto de \n",
    "#busqueda recursiva primer el mejor.\n",
    "#explicando cada funcion que pertenece a la clase."
   ]
  },
  {
   "cell_type": "code",
   "execution_count": null,
   "metadata": {},
   "outputs": [],
   "source": [
    "La clase Node tiene cinco métodos.\n",
    "__init__(self, state, parent, action, path_cost) : Este método crea un nodo. parent representa el nodo del que este es un sucesor y la action es la acción necesaria para pasar del nodo padre a este nodo. path_cost es el costo para llegar al nodo actual desde el nodo principal.\n",
    "Los siguientes 4 métodos son funciones específicas relacionadas con el nodo.\n",
    "\n",
    "expand(self, problem) : Este método enumera todos los nodos vecinos (accesibles en un paso) del nodo actual.\n",
    "    \n",
    "child_node(self, problem, action) -> Dada una action, este método devuelve el vecino inmediato que se puede alcanzar con esa acción.\n",
    "\n",
    "solution(self) -> Esto devuelve la secuencia de acciones necesarias para llegar a este nodo desde el nodo raíz.\n",
    "\n",
    "path(self) : Esto devuelve una lista de todos los nodos que se encuentran en la ruta desde la raíz hasta este nodo.\n"
   ]
  },
  {
   "cell_type": "code",
   "execution_count": 26,
   "metadata": {},
   "outputs": [],
   "source": [
    "class Node:\n",
    "    def __init__(self, state, parent=None, action=None, path_cost=0):\n",
    "        self.state = state\n",
    "        self.parent = parent\n",
    "        self.action = action\n",
    "        self.path_cost = path_cost\n",
    "        self.f=0 #extra Variable representa el costo total \n",
    "        self.depth = 0\n",
    "        if parent:\n",
    "            self.depth = parent.depth + 1\n",
    "\n",
    "    def __repr__(self):\n",
    "        return \"<Node {}>\".format(self.state)\n",
    " \n",
    "    def expand(self, problem):\n",
    "        return [self.child_node(problem, action)\n",
    "                for action in problem.actions(self.state)]\n",
    "\n",
    "    def child_node(self, problem, action): # Creamos un nodo objeto de cada hijo.\n",
    "        next_state = problem.result(self.state, action)\n",
    "        new_cost = problem.path_cost(self.path_cost, self.state,action, next_state)\n",
    "        next_node = Node(next_state, self, action,new_cost )      \n",
    "        return next_node\n",
    "   \n",
    "    def solution(self): # extrae el camino de la solución\n",
    "        return [node.state for node in self.path()]\n",
    "\n",
    "    def path(self): # extrae la ruta de cualquier nodo desde el actual hasta el origen\n",
    "        node, path_back = self, []\n",
    "        while node:\n",
    "            path_back.append(node)\n",
    "            node = node.parent\n",
    "        return list(reversed(path_back)) "
   ]
  },
  {
   "cell_type": "code",
   "execution_count": null,
   "metadata": {},
   "outputs": [],
   "source": []
  }
 ],
 "metadata": {
  "kernelspec": {
   "display_name": "Python 3",
   "language": "python",
   "name": "python3"
  },
  "language_info": {
   "codemirror_mode": {
    "name": "ipython",
    "version": 3
   },
   "file_extension": ".py",
   "mimetype": "text/x-python",
   "name": "python",
   "nbconvert_exporter": "python",
   "pygments_lexer": "ipython3",
   "version": "3.5.2"
  }
 },
 "nbformat": 4,
 "nbformat_minor": 4
}
